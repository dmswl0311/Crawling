{
 "cells": [
  {
   "cell_type": "markdown",
   "metadata": {},
   "source": [
    "<h1> 기본 웹 크롤러"
   ]
  },
  {
   "cell_type": "code",
   "execution_count": 115,
   "metadata": {},
   "outputs": [],
   "source": [
    "import requests\n",
    "import lxml.html\n",
    "import re"
   ]
  },
  {
   "cell_type": "code",
   "execution_count": 217,
   "metadata": {},
   "outputs": [],
   "source": [
    "response=requests.get('http://www.hanbit.co.kr/store/books/new_book_list.html')\n",
    "root=lxml.html.fromstring(response.content)\n",
    "\n",
    "for a in root.cssselect('.view_box a'):\n",
    "    url=a.get('href')\n",
    "    #print(url)"
   ]
  },
  {
   "cell_type": "code",
   "execution_count": 29,
   "metadata": {},
   "outputs": [
    {
     "name": "stdout",
     "output_type": "stream",
     "text": [
      "Requirement already satisfied: cssselect in c:\\programdata\\anaconda3\\lib\\site-packages (1.1.0)\n"
     ]
    }
   ],
   "source": [
    "!pip install cssselect"
   ]
  },
  {
   "cell_type": "code",
   "execution_count": 215,
   "metadata": {},
   "outputs": [],
   "source": [
    "root.make_links_absolute(response.url) #절대경로로 바꾸기\n",
    "\n",
    "for a in root.cssselect('.view_box .book_tit a'): #javascript 없애기\n",
    "    url=a.get('href')\n",
    "    #print(url)"
   ]
  },
  {
   "cell_type": "code",
   "execution_count": 216,
   "metadata": {},
   "outputs": [],
   "source": [
    "root.make_links_absolute(response.url) #절대경로로 바꾸기\n",
    "\n",
    "for a in root.cssselect('.view_box .book_writer'): #javascript 없애기\n",
    "    url=a.get('class')\n",
    "    #print(url)"
   ]
  },
  {
   "cell_type": "code",
   "execution_count": 180,
   "metadata": {},
   "outputs": [],
   "source": [
    "def scrape_list_page(response):\n",
    "    root = lxml.html.fromstring(response.content)\n",
    "    root.make_links_absolute(response.url)\n",
    "    for a in root.cssselect('.view_box .book_tit a'):\n",
    "        url = a.get('href')\n",
    "        yield url"
   ]
  },
  {
   "cell_type": "code",
   "execution_count": 198,
   "metadata": {},
   "outputs": [],
   "source": [
    "def scrape_detail_page(response):\n",
    "    \n",
    "    root=lxml.html.fromstring(response.content)\n",
    "    ebook={\n",
    "        'url':response.url,\n",
    "        'title':root.cssselect('.store_product_info_box h3')[0].text_content(),\n",
    "        'price':root.cssselect('.pbr strong')[0].text_content(),\n",
    "        'content':[normalize_spaces(p.text_content())\n",
    "            for p in root.cssselect('#tabs_3 .hanbit_edit_view p')\n",
    "            if normalize_spaces(p.text_content())!='']\n",
    "    }\n",
    "    return ebook"
   ]
  },
  {
   "cell_type": "code",
   "execution_count": 199,
   "metadata": {},
   "outputs": [],
   "source": [
    "def normalize_spaces(s):\n",
    "    return re.sub(r'\\s+','',s).strip()"
   ]
  },
  {
   "cell_type": "code",
   "execution_count": 204,
   "metadata": {},
   "outputs": [],
   "source": [
    "def main():\n",
    "    \n",
    "    session=requests.Session()\n",
    "    response=session.get('http://www.hanbit.co.kr/store/books/new_book_list.html')\n",
    "    urls=scrape_list_page(response)\n",
    "    \n",
    "    for url in urls:\n",
    "        response=session.get(url)\n",
    "        ebook=scrape_detail_page(response)\n",
    "        print(ebook,\"\\n\")\n"
   ]
  },
  {
   "cell_type": "code",
   "execution_count": 213,
   "metadata": {},
   "outputs": [],
   "source": [
    "#if __name__=='__main__':\n",
    "#    main()"
   ]
  },
  {
   "cell_type": "markdown",
   "metadata": {},
   "source": [
    "<h1> 파이썬 크롤러 만들기"
   ]
  },
  {
   "cell_type": "code",
   "execution_count": 426,
   "metadata": {},
   "outputs": [],
   "source": [
    "import requests\n",
    "import lxml.html\n",
    "import pandas as pd\n",
    "import sqlite3\n",
    "from pandas.io import sql\n",
    "import os\n",
    "import time"
   ]
  },
  {
   "cell_type": "code",
   "execution_count": 427,
   "metadata": {},
   "outputs": [],
   "source": [
    "def db_save(NEWS_LIST):\n",
    "    with sqlite3.connect(os.path.join('.','sqliteDB')) as con:\n",
    "        try:\n",
    "            NEWS_LIST.to_sql(name='NEWS_LIST',con=con,index=False,if_exists='append')\n",
    "        except Exception as e:\n",
    "            print(str(e))\n",
    "        print(len(NEWS_LIST), '건 저장완료')"
   ]
  },
  {
   "cell_type": "code",
   "execution_count": null,
   "metadata": {},
   "outputs": [],
   "source": [
    "#cssselct 방법\n",
    "\n",
    "def link(response):\n",
    "    response=requests.get(\"https://news.daum.net/breakingnews/digital?page={}&regDate={}\".format(PAGE,REG_DATE))\n",
    "    root=lxml.html.fromstring(response.content)\n",
    "    root.make_links_absolute(response.url)\n",
    "\n",
    "    for a in root.cssselect('.box_etc .tit_thumb a'):\n",
    "        url=a.get('href')\n",
    "        print(url,a.text)"
   ]
  },
  {
   "cell_type": "code",
   "execution_count": 419,
   "metadata": {},
   "outputs": [],
   "source": [
    "#xpath 방법\n",
    "\n",
    "def link(response):\n",
    "    response=requests.get(\"https://news.daum.net/breakingnews/digital?regDate={}\".format(REG_DATE))\n",
    "    root=lxml.html.fromstring(response.content)\n",
    "    root.make_links_absolute(response.url)\n",
    "\n",
    "    for li in root.xpath('//*[@id=\"mArticle\"]/div[3]/ul/li'):\n",
    "        a=li.xpath('div/strong/a')[0]\n",
    "        url=a.get('href')\n",
    "        print(url,a.text)"
   ]
  },
  {
   "cell_type": "code",
   "execution_count": 428,
   "metadata": {},
   "outputs": [],
   "source": [
    "import re #정규식 사용 할려고\n",
    "import string\n",
    "\n",
    "def get_detail(url):\n",
    "    body=[]\n",
    "    punc='[!\"#$%&\\'()*+,-./:;<=>?[\\]^_`{|}~“”·]'\n",
    "    response=requests.get(url)\n",
    "    root=lxml.html.fromstring(response.content)\n",
    "    for p in root.xpath('//*[@id=\"harmonyContainer\"]/section/p'): #기사 내용, 첫줄\n",
    "        if p.text:\n",
    "            body.append(re.sub(punc,'',p.text)) #특수문자 제거\n",
    "    \n",
    "    full_body = ' '.join(body)\n",
    "    \n",
    "    return full_body\n",
    "    #full_body=' '.join(body) #리스트 내용 하나로 합침 스페이스 공백으로 본문을 하나로 합치기 위해서\n",
    "    \n",
    "    #return body\n",
    "    #return full_body"
   ]
  },
  {
   "cell_type": "code",
   "execution_count": 429,
   "metadata": {},
   "outputs": [],
   "source": [
    "REG_DATE='20200819'\n",
    "PAGE=50\n",
    "MAX_PAGE=0"
   ]
  },
  {
   "cell_type": "code",
   "execution_count": 432,
   "metadata": {},
   "outputs": [],
   "source": [
    "#뉴스 페이지 이동과 마지막 페이지 '>' 이거랑 숫자가 더이상 큰 것이 없다\n",
    "while(True):\n",
    "    df_list=[]\n",
    "    response=requests.get('http://news.daum.net/breakingnews/digital?page={}&regDate={}'\\\n",
    "                            .format(page, REG_DATE))\n",
    "    root=lxml.html.fromstring(response.content)\n",
    "    \n",
    "    for li in root.xpath('//*[@id=\"mArticle\"]/div[3]/ul/li'):\n",
    "        a=li.xpath('div/strong/a')[0]\n",
    "        url=a.get('href')\n",
    "        article=get_detail(url)\n",
    "        df = pd.DataFrame({'URL' : [url],'TITLE':[a.text],'ARTICLE' : [article]})\n",
    "        df_list.append(df)  \n",
    "            \n",
    "    if df_list:   \n",
    "        df_10 = pd.concat(df_list)\n",
    "        db_save(df_10)\n",
    "        \n",
    "    for a in root.xpath('//*[@id=\"mArticle\"]/div[3]/div/span/a'):\n",
    "        try:\n",
    "            num=int(a.text)\n",
    "            if max_page<num:\n",
    "                max_page=num\n",
    "        except:\n",
    "            pass\n",
    "        \n",
    "    span=root.xpath('//*[@id=\"mArticle\"]/div[3]/div/span/a[@class=\"btn_page btn_next\"]')\n",
    "    \n",
    "    if (len(span)<=0)&(page>max_page):\n",
    "        break\n",
    "    else:\n",
    "        page=page+1\n",
    "    \n",
    "    time.sleep(1)"
   ]
  },
  {
   "cell_type": "code",
   "execution_count": null,
   "metadata": {},
   "outputs": [],
   "source": []
  },
  {
   "cell_type": "markdown",
   "metadata": {},
   "source": [
    "<h1> 연습"
   ]
  },
  {
   "cell_type": "code",
   "execution_count": 370,
   "metadata": {},
   "outputs": [],
   "source": [
    "#연습\n",
    "\n",
    "def example(response):\n",
    "    response=requests.get(\"https://www.justwatch.com/kr\")\n",
    "    root=lxml.html.fromstring(response.content)\n",
    "    \n",
    "    for li in root.xpath('//*[@id=\"base\"]/div[1]/div/div[3]/ion-tab[3]/ion-content/div[4]/div/div/div[2]/div[1]'): #여기서부터 안먹음\n",
    "        a=li.xpath('div/a')[0]\n",
    "        url=a.get('href')\n",
    "        print(url)"
   ]
  },
  {
   "cell_type": "code",
   "execution_count": 369,
   "metadata": {},
   "outputs": [],
   "source": [
    "example(response)"
   ]
  },
  {
   "cell_type": "code",
   "execution_count": 352,
   "metadata": {},
   "outputs": [],
   "source": [
    "# 연습\n",
    "\n",
    "def ex(response):\n",
    "    response=requests.get(\"https://book.naver.com/category/index.nhn?cate_code=280&list_type=&tab=new_book\")\n",
    "    root=lxml.html.fromstring(response.content)\n",
    "    \n",
    "    for li in root.xpath(' //*[@id=\"category_section\"]/ol/li'):\n",
    "        a=li.xpath('dl/dt/a')[0]\n",
    "        url=a.get('href')\n",
    "        print(url,a.text)\n",
    "        "
   ]
  },
  {
   "cell_type": "code",
   "execution_count": 353,
   "metadata": {},
   "outputs": [
    {
     "name": "stdout",
     "output_type": "stream",
     "text": [
      "http://book.naver.com/bookdb/book_detail.nhn?bid=16656224 프로크리에이트 작법서\n",
      "http://book.naver.com/bookdb/book_detail.nhn?bid=16655248 아이패드 드로잉 & 페인팅 with 프로크리에이트\n",
      "http://book.naver.com/bookdb/book_detail.nhn?bid=16588285 꿈왕국과 잠자는 100명의 왕자님 공식 설정집\n",
      "http://book.naver.com/bookdb/book_detail.nhn?bid=16655424 MATLAB\n",
      "http://book.naver.com/bookdb/book_detail.nhn?bid=16624808 데이터 애널리틱스\n",
      "http://book.naver.com/bookdb/book_detail.nhn?bid=16654764 한눈에 보이는 CMYK 배색&톤 가이드 - 아트지\n",
      "http://book.naver.com/bookdb/book_detail.nhn?bid=16654765 한눈에 보이는 CMYK 배색&톤 가이드 - 모조지\n",
      "http://book.naver.com/bookdb/book_detail.nhn?bid=16654766 한눈에 보이는 CMYK 배색&톤 가이드 - 아르떼지\n",
      "http://book.naver.com/bookdb/book_detail.nhn?bid=16655323 JPA 퀵스타트\n",
      "http://book.naver.com/bookdb/book_detail.nhn?bid=16627362 단계학습 한글 NEO 2016 기본 & 실무 프로젝트\n",
      "http://book.naver.com/bookdb/book_detail.nhn?bid=16656198 ITQ 엑셀 2016\n",
      "http://book.naver.com/bookdb/book_detail.nhn?bid=16627379 ITQ OA마스터 2016\n",
      "http://book.naver.com/bookdb/book_detail.nhn?bid=16655348 JAVA\n",
      "http://book.naver.com/bookdb/book_detail.nhn?bid=16628749 JSP & MySQL Web Server Programming(기초부터 응용까지 다루는)(IT Holic 146)\n",
      "http://book.naver.com/bookdb/book_detail.nhn?bid=15202468 중장년을 위한 알기 쉬운 스마트폰 활용\n",
      "http://book.naver.com/bookdb/book_detail.nhn?bid=16587811 에듀테크 FOR 클래스룸\n",
      "http://book.naver.com/bookdb/book_detail.nhn?bid=16629600 코딩마법서 C/C++ STONE\n",
      "http://book.naver.com/bookdb/book_detail.nhn?bid=16628752 JAVA 14 Programming(IT Holic 145)\n",
      "http://book.naver.com/bookdb/book_detail.nhn?bid=16591667 AWS 공인 솔루션스 아키텍트 올인원 스터디 가이드 어소시에이트\n",
      "http://book.naver.com/bookdb/book_detail.nhn?bid=16624764 모두의 아두이노 DIY\n"
     ]
    }
   ],
   "source": [
    "ex(response)"
   ]
  },
  {
   "cell_type": "code",
   "execution_count": null,
   "metadata": {},
   "outputs": [],
   "source": []
  }
 ],
 "metadata": {
  "kernelspec": {
   "display_name": "Python 3",
   "language": "python",
   "name": "python3"
  },
  "language_info": {
   "codemirror_mode": {
    "name": "ipython",
    "version": 3
   },
   "file_extension": ".py",
   "mimetype": "text/x-python",
   "name": "python",
   "nbconvert_exporter": "python",
   "pygments_lexer": "ipython3",
   "version": "3.8.3"
  }
 },
 "nbformat": 4,
 "nbformat_minor": 4
}

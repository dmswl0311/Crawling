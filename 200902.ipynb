{
 "cells": [
  {
   "cell_type": "markdown",
   "metadata": {},
   "source": [
    "<h1> 기본 웹 크롤러"
   ]
  },
  {
   "cell_type": "code",
   "execution_count": 115,
   "metadata": {},
   "outputs": [],
   "source": [
    "import requests\n",
    "import lxml.html\n",
    "import re"
   ]
  },
  {
   "cell_type": "code",
   "execution_count": 217,
   "metadata": {},
   "outputs": [],
   "source": [
    "response=requests.get('http://www.hanbit.co.kr/store/books/new_book_list.html')\n",
    "root=lxml.html.fromstring(response.content)\n",
    "\n",
    "for a in root.cssselect('.view_box a'):\n",
    "    url=a.get('href')\n",
    "    #print(url)"
   ]
  },
  {
   "cell_type": "code",
   "execution_count": 29,
   "metadata": {},
   "outputs": [
    {
     "name": "stdout",
     "output_type": "stream",
     "text": [
      "Requirement already satisfied: cssselect in c:\\programdata\\anaconda3\\lib\\site-packages (1.1.0)\n"
     ]
    }
   ],
   "source": [
    "!pip install cssselect"
   ]
  },
  {
   "cell_type": "code",
   "execution_count": 215,
   "metadata": {},
   "outputs": [],
   "source": [
    "root.make_links_absolute(response.url) #절대경로로 바꾸기\n",
    "\n",
    "for a in root.cssselect('.view_box .book_tit a'): #javascript 없애기\n",
    "    url=a.get('href')\n",
    "    #print(url)"
   ]
  },
  {
   "cell_type": "code",
   "execution_count": 216,
   "metadata": {},
   "outputs": [],
   "source": [
    "root.make_links_absolute(response.url) #절대경로로 바꾸기\n",
    "\n",
    "for a in root.cssselect('.view_box .book_writer'): #javascript 없애기\n",
    "    url=a.get('class')\n",
    "    #print(url)"
   ]
  },
  {
   "cell_type": "code",
   "execution_count": 180,
   "metadata": {},
   "outputs": [],
   "source": [
    "def scrape_list_page(response):\n",
    "    root = lxml.html.fromstring(response.content)\n",
    "    root.make_links_absolute(response.url)\n",
    "    for a in root.cssselect('.view_box .book_tit a'):\n",
    "        url = a.get('href')\n",
    "        yield url"
   ]
  },
  {
   "cell_type": "code",
   "execution_count": 198,
   "metadata": {},
   "outputs": [],
   "source": [
    "def scrape_detail_page(response):\n",
    "    \n",
    "    root=lxml.html.fromstring(response.content)\n",
    "    ebook={\n",
    "        'url':response.url,\n",
    "        'title':root.cssselect('.store_product_info_box h3')[0].text_content(),\n",
    "        'price':root.cssselect('.pbr strong')[0].text_content(),\n",
    "        'content':[normalize_spaces(p.text_content())\n",
    "            for p in root.cssselect('#tabs_3 .hanbit_edit_view p')\n",
    "            if normalize_spaces(p.text_content())!='']\n",
    "    }\n",
    "    return ebook"
   ]
  },
  {
   "cell_type": "code",
   "execution_count": 199,
   "metadata": {},
   "outputs": [],
   "source": [
    "def normalize_spaces(s):\n",
    "    return re.sub(r'\\s+','',s).strip()"
   ]
  },
  {
   "cell_type": "code",
   "execution_count": 204,
   "metadata": {},
   "outputs": [],
   "source": [
    "def main():\n",
    "    \n",
    "    session=requests.Session()\n",
    "    response=session.get('http://www.hanbit.co.kr/store/books/new_book_list.html')\n",
    "    urls=scrape_list_page(response)\n",
    "    \n",
    "    for url in urls:\n",
    "        response=session.get(url)\n",
    "        ebook=scrape_detail_page(response)\n",
    "        print(ebook,\"\\n\")\n"
   ]
  },
  {
   "cell_type": "code",
   "execution_count": 213,
   "metadata": {},
   "outputs": [],
   "source": [
    "#if __name__=='__main__':\n",
    "#    main()"
   ]
  },
  {
   "cell_type": "markdown",
   "metadata": {},
   "source": [
    "<h1> 파이썬 크롤러 만들기"
   ]
  },
  {
   "cell_type": "code",
   "execution_count": 438,
   "metadata": {},
   "outputs": [],
   "source": [
    "import requests\n",
    "import lxml.html\n",
    "import pandas as pd\n",
    "import sqlite3\n",
    "from pandas.io import sql\n",
    "import os\n",
    "import time"
   ]
  },
  {
   "cell_type": "code",
   "execution_count": 439,
   "metadata": {},
   "outputs": [],
   "source": [
    "def db_save(NEWS_LIST):\n",
    "    with sqlite3.connect(os.path.join('.','sqliteDB')) as con:\n",
    "        try:\n",
    "            NEWS_LIST.to_sql(name = 'NEWS_LIST', con = con, index = False, if_exists='append') \n",
    "            #if_exists : {'fail', 'replace', 'append'} default : fail\n",
    "        except Exception as e:\n",
    "            print(str(e))\n",
    "        print(len(NEWS_LIST), '건 저장완료..')"
   ]
  },
  {
   "cell_type": "code",
   "execution_count": 440,
   "metadata": {},
   "outputs": [],
   "source": [
    "def db_delete():\n",
    "    with sqlite3.connect(os.path.join('.','sqliteDB')) as con: \n",
    "        try:\n",
    "            cur = con.cursor()\n",
    "            sql = 'DELETE FROM NEWS_LIST'\n",
    "            cur.execute(sql)\n",
    "        except Exception as e:\n",
    "            print(str(e)) "
   ]
  },
  {
   "cell_type": "code",
   "execution_count": 441,
   "metadata": {},
   "outputs": [],
   "source": [
    "def db_select():\n",
    "    with sqlite3.connect(os.path.join('.','sqliteDB')) as con: \n",
    "        try:\n",
    "            query = 'SELECT * FROM NEWS_LIST'\n",
    "            NEWS_LIST = pd.read_sql(query, con = con)\n",
    "        except Exception as e:\n",
    "            print(str(e)) \n",
    "        return NEWS_LIST   "
   ]
  },
  {
   "cell_type": "markdown",
   "metadata": {},
   "source": [
    "#cssselct 방법\n",
    "\n",
    "def link(response):\n",
    "    response=requests.get(\"https://news.daum.net/breakingnews/digital?page={}&regDate={}\".format(PAGE,REG_DATE))\n",
    "    root=lxml.html.fromstring(response.content)\n",
    "    root.make_links_absolute(response.url)\n",
    "\n",
    "    for a in root.cssselect('.box_etc .tit_thumb a'):\n",
    "        url=a.get('href')\n",
    "        print(url,a.text)"
   ]
  },
  {
   "cell_type": "markdown",
   "metadata": {},
   "source": [
    "#xpath 방법\n",
    "\n",
    "def link(response):\n",
    "    response=requests.get(\"https://news.daum.net/breakingnews/digital?regDate={}\".format(REG_DATE))\n",
    "    root=lxml.html.fromstring(response.content)\n",
    "    root.make_links_absolute(response.url)\n",
    "\n",
    "    for li in root.xpath('//*[@id=\"mArticle\"]/div[3]/ul/li'):\n",
    "        a=li.xpath('div/strong/a')[0]\n",
    "        url=a.get('href')\n",
    "        print(url,a.text)"
   ]
  },
  {
   "cell_type": "code",
   "execution_count": 442,
   "metadata": {},
   "outputs": [],
   "source": [
    "import re #정규식 사용 할려고\n",
    "import string\n",
    "\n",
    "def get_detail(url):\n",
    "    body=[]\n",
    "    punc='[!\"#$%&\\'()*+,-./:;<=>?[\\]^_`{|}~“”·]'\n",
    "    response=requests.get(url)\n",
    "    root=lxml.html.fromstring(response.content)\n",
    "    for p in root.xpath('//*[@id=\"harmonyContainer\"]/section/p'): #기사 내용, 첫줄\n",
    "        if p.text:\n",
    "            body.append(re.sub(punc,'',p.text)) #특수문자 제거\n",
    "    \n",
    "    full_body = ' '.join(body)\n",
    "    \n",
    "    return full_body\n",
    "    #full_body=' '.join(body) #리스트 내용 하나로 합침 스페이스 공백으로 본문을 하나로 합치기 위해서\n",
    "    \n",
    "    #return body\n",
    "    #return full_body"
   ]
  },
  {
   "cell_type": "code",
   "execution_count": 443,
   "metadata": {},
   "outputs": [],
   "source": [
    "page = 58\n",
    "max_page = 0\n",
    "REG_DATE = '20200819'"
   ]
  },
  {
   "cell_type": "code",
   "execution_count": 444,
   "metadata": {},
   "outputs": [
    {
     "name": "stdout",
     "output_type": "stream",
     "text": [
      "15 건 저장완료..\n",
      "15 건 저장완료..\n",
      "15 건 저장완료..\n",
      "14 건 저장완료..\n"
     ]
    }
   ],
   "source": [
    "#뉴스 페이지 이동과 마지막 페이지 '>' 이거랑 숫자가 더이상 큰 것이 없다\n",
    "while(True):\n",
    "    df_list=[]\n",
    "    response=requests.get('http://news.daum.net/breakingnews/digital?page={}&regDate={}'\\\n",
    "                            .format(page, REG_DATE))\n",
    "    root=lxml.html.fromstring(response.content)\n",
    "    \n",
    "    for li in root.xpath('//*[@id=\"mArticle\"]/div[3]/ul/li'):\n",
    "        a=li.xpath('div/strong/a')[0]\n",
    "        url=a.get('href')\n",
    "        article=get_detail(url)\n",
    "        df = pd.DataFrame({'URL' : [url],'TITLE':[a.text],'ARTICLE' : [article]})\n",
    "        df_list.append(df)  \n",
    "            \n",
    "    if df_list:   \n",
    "        df_10 = pd.concat(df_list)\n",
    "        db_save(df_10)\n",
    "        \n",
    "    for a in root.xpath('//*[@id=\"mArticle\"]/div[3]/div/span/a'):\n",
    "        try:\n",
    "            num=int(a.text)\n",
    "            if max_page<num:\n",
    "                max_page=num\n",
    "        except:\n",
    "            pass\n",
    "        \n",
    "    span=root.xpath('//*[@id=\"mArticle\"]/div[3]/div/span/a[@class=\"btn_page btn_next\"]')\n",
    "    \n",
    "    if (len(span)<=0)&(page>max_page):\n",
    "        break\n",
    "    else:\n",
    "        page=page+1\n",
    "    \n",
    "    time.sleep(1)"
   ]
  },
  {
   "cell_type": "code",
   "execution_count": null,
   "metadata": {},
   "outputs": [],
   "source": []
  },
  {
   "cell_type": "markdown",
   "metadata": {},
   "source": [
    "<h1> 연습"
   ]
  },
  {
   "cell_type": "code",
   "execution_count": 370,
   "metadata": {},
   "outputs": [],
   "source": [
    "#연습\n",
    "\n",
    "def example(response):\n",
    "    response=requests.get(\"https://www.justwatch.com/kr\")\n",
    "    root=lxml.html.fromstring(response.content)\n",
    "    \n",
    "    for li in root.xpath('//*[@id=\"base\"]/div[1]/div/div[3]/ion-tab[3]/ion-content/div[4]/div/div/div[2]/div[1]'): #여기서부터 안먹음\n",
    "        a=li.xpath('div/a')[0]\n",
    "        url=a.get('href')\n",
    "        print(url)"
   ]
  },
  {
   "cell_type": "code",
   "execution_count": 369,
   "metadata": {},
   "outputs": [],
   "source": [
    "example(response)"
   ]
  },
  {
   "cell_type": "code",
   "execution_count": 352,
   "metadata": {},
   "outputs": [],
   "source": [
    "# 연습\n",
    "\n",
    "def ex(response):\n",
    "    response=requests.get(\"https://book.naver.com/category/index.nhn?cate_code=280&list_type=&tab=new_book\")\n",
    "    root=lxml.html.fromstring(response.content)\n",
    "    \n",
    "    for li in root.xpath(' //*[@id=\"category_section\"]/ol/li'):\n",
    "        a=li.xpath('dl/dt/a')[0]\n",
    "        url=a.get('href')\n",
    "        print(url,a.text)\n",
    "        "
   ]
  },
  {
   "cell_type": "code",
   "execution_count": 353,
   "metadata": {},
   "outputs": [
    {
     "name": "stdout",
     "output_type": "stream",
     "text": [
      "http://book.naver.com/bookdb/book_detail.nhn?bid=16656224 프로크리에이트 작법서\n",
      "http://book.naver.com/bookdb/book_detail.nhn?bid=16655248 아이패드 드로잉 & 페인팅 with 프로크리에이트\n",
      "http://book.naver.com/bookdb/book_detail.nhn?bid=16588285 꿈왕국과 잠자는 100명의 왕자님 공식 설정집\n",
      "http://book.naver.com/bookdb/book_detail.nhn?bid=16655424 MATLAB\n",
      "http://book.naver.com/bookdb/book_detail.nhn?bid=16624808 데이터 애널리틱스\n",
      "http://book.naver.com/bookdb/book_detail.nhn?bid=16654764 한눈에 보이는 CMYK 배색&톤 가이드 - 아트지\n",
      "http://book.naver.com/bookdb/book_detail.nhn?bid=16654765 한눈에 보이는 CMYK 배색&톤 가이드 - 모조지\n",
      "http://book.naver.com/bookdb/book_detail.nhn?bid=16654766 한눈에 보이는 CMYK 배색&톤 가이드 - 아르떼지\n",
      "http://book.naver.com/bookdb/book_detail.nhn?bid=16655323 JPA 퀵스타트\n",
      "http://book.naver.com/bookdb/book_detail.nhn?bid=16627362 단계학습 한글 NEO 2016 기본 & 실무 프로젝트\n",
      "http://book.naver.com/bookdb/book_detail.nhn?bid=16656198 ITQ 엑셀 2016\n",
      "http://book.naver.com/bookdb/book_detail.nhn?bid=16627379 ITQ OA마스터 2016\n",
      "http://book.naver.com/bookdb/book_detail.nhn?bid=16655348 JAVA\n",
      "http://book.naver.com/bookdb/book_detail.nhn?bid=16628749 JSP & MySQL Web Server Programming(기초부터 응용까지 다루는)(IT Holic 146)\n",
      "http://book.naver.com/bookdb/book_detail.nhn?bid=15202468 중장년을 위한 알기 쉬운 스마트폰 활용\n",
      "http://book.naver.com/bookdb/book_detail.nhn?bid=16587811 에듀테크 FOR 클래스룸\n",
      "http://book.naver.com/bookdb/book_detail.nhn?bid=16629600 코딩마법서 C/C++ STONE\n",
      "http://book.naver.com/bookdb/book_detail.nhn?bid=16628752 JAVA 14 Programming(IT Holic 145)\n",
      "http://book.naver.com/bookdb/book_detail.nhn?bid=16591667 AWS 공인 솔루션스 아키텍트 올인원 스터디 가이드 어소시에이트\n",
      "http://book.naver.com/bookdb/book_detail.nhn?bid=16624764 모두의 아두이노 DIY\n"
     ]
    }
   ],
   "source": [
    "ex(response)"
   ]
  },
  {
   "cell_type": "markdown",
   "metadata": {},
   "source": [
    "<h1> 셀레늄을 이용한 크롤러"
   ]
  },
  {
   "cell_type": "code",
   "execution_count": 445,
   "metadata": {},
   "outputs": [
    {
     "name": "stdout",
     "output_type": "stream",
     "text": [
      "Collecting selenium\n",
      "  Downloading selenium-3.141.0-py2.py3-none-any.whl (904 kB)\n",
      "Requirement already satisfied: urllib3 in c:\\programdata\\anaconda3\\lib\\site-packages (from selenium) (1.25.9)\n",
      "Installing collected packages: selenium\n",
      "Successfully installed selenium-3.141.0\n"
     ]
    }
   ],
   "source": [
    "!pip install selenium"
   ]
  },
  {
   "cell_type": "code",
   "execution_count": 473,
   "metadata": {},
   "outputs": [],
   "source": [
    "from selenium.webdriver import Chrome\n",
    "import time\n",
    "import sqlite3\n",
    "from pandas.io import sql\n",
    "import os\n",
    "import pandas as pd"
   ]
  },
  {
   "cell_type": "code",
   "execution_count": 474,
   "metadata": {},
   "outputs": [],
   "source": [
    "from selenium import webdriver\n",
    "\n",
    "options=webdriver.ChromeOptions()\n",
    "options.add_argument(\"--start-maximized\"); #브라우저 최대한 크게 옵션 지정\n",
    "\n",
    "browser=webdriver.Chrome('chromedriver',options=options)"
   ]
  },
  {
   "cell_type": "code",
   "execution_count": 475,
   "metadata": {},
   "outputs": [],
   "source": [
    "#가동된 브라우저를 통한 url 접속\n",
    "\n",
    "browser.get('https://www.data.go.kr/')\n",
    "browser.implicitly_wait(5) #잠시 대기하기 time.sleep 과 유사함"
   ]
  },
  {
   "cell_type": "code",
   "execution_count": 476,
   "metadata": {},
   "outputs": [],
   "source": [
    "#login 페이지 접속\n",
    "\n",
    "browser.find_element_by_xpath('//*[@id=\"header\"]/div/div/div/div[2]/div/a[1]').click()\n",
    "browser.implicitly_wait(5)"
   ]
  },
  {
   "cell_type": "code",
   "execution_count": 477,
   "metadata": {},
   "outputs": [],
   "source": [
    "#login하기\n",
    "\n",
    "browser.find_element_by_xpath('//*[@id=\"mberId\"]').send_keys('사용자아이디')\n",
    "browser.find_element_by_xpath('//*[@id=\"pswrd\"]').send_keys('사용자비번')\n",
    "browser.find_element_by_xpath('//*[@id=\"loginVo\"]/div[2]/div[2]/div[2]/div/div[1]/button').click()\n",
    "browser.implicitly_wait(5)"
   ]
  },
  {
   "cell_type": "code",
   "execution_count": 479,
   "metadata": {},
   "outputs": [],
   "source": [
    "browser.find_element_by_xpath('//*[@id=\"M000400_pc\"]/a').click()"
   ]
  },
  {
   "cell_type": "code",
   "execution_count": 480,
   "metadata": {},
   "outputs": [],
   "source": [
    "browser.find_element_by_xpath('//*[@id=\"M000402_pc\"]/a').click()"
   ]
  },
  {
   "cell_type": "code",
   "execution_count": 485,
   "metadata": {},
   "outputs": [],
   "source": [
    "def db_save(ARTICLE_LIST):\n",
    "    with sqlite3.connect(os.path.join('.','sqliteDB')) as con: # sqlite DB 파일이 존재하지 않는 경우 파일생성\n",
    "        try:\n",
    "            ARTICLE_LIST.to_sql(name = 'ARTICLE_LIST', con = con, index = False, if_exists='append') \n",
    "            #if_exists : {'fail', 'replace', 'append'} default : fail\n",
    "        except Exception as e:\n",
    "            print(str(e))\n",
    "        print(len(ARTICLE_LIST), '건 저장완료..')"
   ]
  },
  {
   "cell_type": "code",
   "execution_count": 487,
   "metadata": {},
   "outputs": [
    {
     "name": "stdout",
     "output_type": "stream",
     "text": [
      "10 건 저장완료..\n"
     ]
    }
   ],
   "source": [
    "trs = browser.find_elements_by_xpath('//*[@id=\"searchVO\"]/div[5]/table/tbody/tr')\n",
    "df_list = []\n",
    "for tr in trs:\n",
    "    df = pd.DataFrame({\n",
    "            'NO': [tr.find_element_by_xpath('td[1]').text],\n",
    "            'TITLE': [tr.find_element_by_xpath('td[2]').text],\n",
    "            'IQRY': [tr.find_element_by_xpath('td[3]').text],\n",
    "            'REGDT': [tr.find_element_by_xpath('td[4]').text],\n",
    "            'CHGDT': [tr.find_element_by_xpath('td[5]').text],\n",
    "        }) #key에 해당되는 값은 list로 넣어주어야함\n",
    "    df_list.append(df)\n",
    "    \n",
    "ARTICLE_LIST = pd.concat(df_list)\n",
    "db_save(ARTICLE_LIST)"
   ]
  },
  {
   "cell_type": "code",
   "execution_count": 488,
   "metadata": {},
   "outputs": [],
   "source": [
    "browser.find_element_by_xpath('//*[@id=\"searchVO\"]/div[5]/table/tbody/tr[3]/td[2]/a').click()\n",
    "browser.implicitly_wait(3)"
   ]
  },
  {
   "cell_type": "code",
   "execution_count": 489,
   "metadata": {},
   "outputs": [],
   "source": [
    "#다운로드\n",
    "\n",
    "browser.find_element_by_xpath('//*[@id=\"recsroomDetail\"]/div[2]/div[4]/div/a').click()\n",
    "time.sleep(10) "
   ]
  },
  {
   "cell_type": "code",
   "execution_count": 493,
   "metadata": {},
   "outputs": [],
   "source": [
    "browser.quit()"
   ]
  },
  {
   "cell_type": "code",
   "execution_count": 490,
   "metadata": {},
   "outputs": [],
   "source": [
    "#브라우저 가동하지 않고 background 작업 수행- headless\n",
    "\n",
    "from selenium import webdriver\n",
    "\n",
    "options=webdriver.ChromeOptions()\n",
    "options.add_argument('--headless')\n",
    "options.add_argument('--disable-gpu')\n",
    "options.add_argument('--window-size=1280x1024')\n",
    "\n",
    "browser=webdriver.Chrome('chromedriver',options=options)"
   ]
  }
 ],
 "metadata": {
  "kernelspec": {
   "display_name": "Python 3",
   "language": "python",
   "name": "python3"
  },
  "language_info": {
   "codemirror_mode": {
    "name": "ipython",
    "version": 3
   },
   "file_extension": ".py",
   "mimetype": "text/x-python",
   "name": "python",
   "nbconvert_exporter": "python",
   "pygments_lexer": "ipython3",
   "version": "3.8.3"
  }
 },
 "nbformat": 4,
 "nbformat_minor": 4
}
